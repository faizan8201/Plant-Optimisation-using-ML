{
 "cells": [
  {
   "cell_type": "markdown",
   "id": "114b82b8",
   "metadata": {},
   "source": [
    "### Libraries:"
   ]
  },
  {
   "cell_type": "code",
   "execution_count": 150,
   "id": "33fe30c1",
   "metadata": {},
   "outputs": [],
   "source": [
    "import numpy as np\n",
    "import pandas as pd\n",
    "import sklearn\n",
    "import xgboost as xgb\n",
    "import matplotlib.pyplot as plt\n",
    "import seaborn as sns\n",
    "import shap\n",
    "from sklearn.model_selection import GridSearchCV\n",
    "from sklearn.metrics import mean_absolute_error, mean_squared_error\n",
    "from yellowbrick.regressor import prediction_error\n",
    "from yellowbrick.regressor import AlphaSelection, PredictionError, ResidualsPlot\n",
    "from sklearn import metrics\n",
    "from sklearn.metrics import mean_squared_error as mse\n",
    "import statsmodels.api as sm\n",
    "from scipy import stats\n",
    "from scipy.stats import norm, skew, kurtosis\n",
    "from sklearn.model_selection import train_test_split\n",
    "\n",
    "from sklearn.preprocessing import OrdinalEncoder, OneHotEncoder, StandardScaler, MinMaxScaler\n",
    "from sklearn.impute import SimpleImputer\n",
    "from sklearn_pandas import DataFrameMapper"
   ]
  },
  {
   "cell_type": "markdown",
   "id": "5ada474d",
   "metadata": {},
   "source": [
    "### Basic Methods:"
   ]
  },
  {
   "cell_type": "code",
   "execution_count": 42,
   "id": "fa0f0710",
   "metadata": {},
   "outputs": [],
   "source": [
    "                                \"\"\"Regression chart function:\"\"\"\n",
    "\n",
    "def chart_regression(pred, y, sort=True):\n",
    "    t = pd.DataFrame({'pred': pred, 'y': y})\n",
    "    if sort:\n",
    "        t.sort_values(by=['y'], inplace=True)\n",
    "    plt.plot(t['y'].tolist(),'bo', label='expected', )\n",
    "    plt.plot(t['pred'].tolist(),'go', label='prediction')\n",
    "    plt.ylabel('output')\n",
    "    plt.title('RMSE: {}'.format(np.sqrt(metrics.mean_squared_error(pred,y))))\n",
    "    plt.legend()\n",
    "    plt.show()"
   ]
  },
  {
   "cell_type": "code",
   "execution_count": 43,
   "id": "d6107156",
   "metadata": {},
   "outputs": [],
   "source": [
    "                            \"\"\"Get required variables from raw data\"\"\"\n",
    "\n",
    "def get_data(data_path, skiprow):\n",
    "    df = pd.read_excel(data_path, skiprows = skiprow)\n",
    "    for col in df.columns:\n",
    "        if not (col in ['x1', 'x2', 'x3', 'x4','x5','x6','x7','y1', 'y2', 'y3', 'y4']):\n",
    "            df = df.drop(col, axis = 1)\n",
    "    df1 = df.rename(columns=df.iloc[0]).drop(df.index[0]).drop([1,2], axis=0)\n",
    "    df1 =df1.reset_index().drop(['index'], axis=1)\n",
    "    return df1\n"
   ]
  },
  {
   "cell_type": "markdown",
   "id": "160a3605",
   "metadata": {},
   "source": [
    "### Get Data:"
   ]
  },
  {
   "cell_type": "code",
   "execution_count": 44,
   "id": "b8f8a976",
   "metadata": {},
   "outputs": [
    {
     "data": {
      "text/html": [
       "<div>\n",
       "<style scoped>\n",
       "    .dataframe tbody tr th:only-of-type {\n",
       "        vertical-align: middle;\n",
       "    }\n",
       "\n",
       "    .dataframe tbody tr th {\n",
       "        vertical-align: top;\n",
       "    }\n",
       "\n",
       "    .dataframe thead th {\n",
       "        text-align: right;\n",
       "    }\n",
       "</style>\n",
       "<table border=\"1\" class=\"dataframe\">\n",
       "  <thead>\n",
       "    <tr style=\"text-align: right;\">\n",
       "      <th></th>\n",
       "      <th>Nozzle pos.</th>\n",
       "      <th>Inlet duct</th>\n",
       "      <th>Air flow</th>\n",
       "      <th>Air temp.</th>\n",
       "      <th>Feed flow</th>\n",
       "      <th>GLR</th>\n",
       "      <th>Avg. TKE</th>\n",
       "      <th>Mean diameter</th>\n",
       "      <th>Variance</th>\n",
       "      <th>Mean Sphericity</th>\n",
       "      <th>Moisture content</th>\n",
       "    </tr>\n",
       "  </thead>\n",
       "  <tbody>\n",
       "    <tr>\n",
       "      <th>0</th>\n",
       "      <td>2.4</td>\n",
       "      <td>10</td>\n",
       "      <td>200</td>\n",
       "      <td>150</td>\n",
       "      <td>6</td>\n",
       "      <td>0.3</td>\n",
       "      <td>0.0087</td>\n",
       "      <td>125.943</td>\n",
       "      <td>0.748193</td>\n",
       "      <td>0.913</td>\n",
       "      <td>NaN</td>\n",
       "    </tr>\n",
       "    <tr>\n",
       "      <th>1</th>\n",
       "      <td>2.4</td>\n",
       "      <td>10</td>\n",
       "      <td>200</td>\n",
       "      <td>200</td>\n",
       "      <td>6</td>\n",
       "      <td>0.3</td>\n",
       "      <td>0.0293</td>\n",
       "      <td>106.58</td>\n",
       "      <td>0.63832</td>\n",
       "      <td>0.909</td>\n",
       "      <td>NaN</td>\n",
       "    </tr>\n",
       "    <tr>\n",
       "      <th>2</th>\n",
       "      <td>2.4</td>\n",
       "      <td>10</td>\n",
       "      <td>300</td>\n",
       "      <td>150</td>\n",
       "      <td>6</td>\n",
       "      <td>0.3</td>\n",
       "      <td>0.0448</td>\n",
       "      <td>103.83</td>\n",
       "      <td>0.54482</td>\n",
       "      <td>0.918</td>\n",
       "      <td>NaN</td>\n",
       "    </tr>\n",
       "    <tr>\n",
       "      <th>3</th>\n",
       "      <td>2.4</td>\n",
       "      <td>10</td>\n",
       "      <td>300</td>\n",
       "      <td>150</td>\n",
       "      <td>6</td>\n",
       "      <td>0.1</td>\n",
       "      <td>0.0448</td>\n",
       "      <td>265.513</td>\n",
       "      <td>0.905542</td>\n",
       "      <td>0.871</td>\n",
       "      <td>NaN</td>\n",
       "    </tr>\n",
       "    <tr>\n",
       "      <th>4</th>\n",
       "      <td>2.4</td>\n",
       "      <td>10</td>\n",
       "      <td>300</td>\n",
       "      <td>200</td>\n",
       "      <td>6</td>\n",
       "      <td>0.3</td>\n",
       "      <td>0.0248</td>\n",
       "      <td>110.166</td>\n",
       "      <td>0.578746</td>\n",
       "      <td>0.886</td>\n",
       "      <td>NaN</td>\n",
       "    </tr>\n",
       "    <tr>\n",
       "      <th>5</th>\n",
       "      <td>2.4</td>\n",
       "      <td>10</td>\n",
       "      <td>300</td>\n",
       "      <td>200</td>\n",
       "      <td>6</td>\n",
       "      <td>0.1</td>\n",
       "      <td>0.0248</td>\n",
       "      <td>232.74</td>\n",
       "      <td>0.691293</td>\n",
       "      <td>0.866</td>\n",
       "      <td>NaN</td>\n",
       "    </tr>\n",
       "    <tr>\n",
       "      <th>6</th>\n",
       "      <td>2.4</td>\n",
       "      <td>10</td>\n",
       "      <td>300</td>\n",
       "      <td>200</td>\n",
       "      <td>12</td>\n",
       "      <td>0.2</td>\n",
       "      <td>0.0248</td>\n",
       "      <td>124.209</td>\n",
       "      <td>0.663465</td>\n",
       "      <td>0.897</td>\n",
       "      <td>NaN</td>\n",
       "    </tr>\n",
       "    <tr>\n",
       "      <th>7</th>\n",
       "      <td>2.4</td>\n",
       "      <td>10</td>\n",
       "      <td>300</td>\n",
       "      <td>200</td>\n",
       "      <td>12</td>\n",
       "      <td>0.0666667</td>\n",
       "      <td>0.0248</td>\n",
       "      <td>254.591</td>\n",
       "      <td>0.755225</td>\n",
       "      <td>0.861</td>\n",
       "      <td>NaN</td>\n",
       "    </tr>\n",
       "    <tr>\n",
       "      <th>8</th>\n",
       "      <td>2.4</td>\n",
       "      <td>2</td>\n",
       "      <td>200</td>\n",
       "      <td>150</td>\n",
       "      <td>6</td>\n",
       "      <td>0.3</td>\n",
       "      <td>0.1036</td>\n",
       "      <td>168.657</td>\n",
       "      <td>1.00984</td>\n",
       "      <td>0.871</td>\n",
       "      <td>NaN</td>\n",
       "    </tr>\n",
       "    <tr>\n",
       "      <th>9</th>\n",
       "      <td>2.4</td>\n",
       "      <td>2</td>\n",
       "      <td>200</td>\n",
       "      <td>200</td>\n",
       "      <td>6</td>\n",
       "      <td>0.3</td>\n",
       "      <td>0.1047</td>\n",
       "      <td>108.085</td>\n",
       "      <td>0.678292</td>\n",
       "      <td>0.9</td>\n",
       "      <td>NaN</td>\n",
       "    </tr>\n",
       "  </tbody>\n",
       "</table>\n",
       "</div>"
      ],
      "text/plain": [
       "  Nozzle pos. Inlet duct Air flow Air temp. Feed flow        GLR Avg. TKE  \\\n",
       "0         2.4         10      200       150         6        0.3   0.0087   \n",
       "1         2.4         10      200       200         6        0.3   0.0293   \n",
       "2         2.4         10      300       150         6        0.3   0.0448   \n",
       "3         2.4         10      300       150         6        0.1   0.0448   \n",
       "4         2.4         10      300       200         6        0.3   0.0248   \n",
       "5         2.4         10      300       200         6        0.1   0.0248   \n",
       "6         2.4         10      300       200        12        0.2   0.0248   \n",
       "7         2.4         10      300       200        12  0.0666667   0.0248   \n",
       "8         2.4          2      200       150         6        0.3   0.1036   \n",
       "9         2.4          2      200       200         6        0.3   0.1047   \n",
       "\n",
       "  Mean diameter  Variance Mean Sphericity Moisture content  \n",
       "0       125.943  0.748193           0.913              NaN  \n",
       "1        106.58   0.63832           0.909              NaN  \n",
       "2        103.83   0.54482           0.918              NaN  \n",
       "3       265.513  0.905542           0.871              NaN  \n",
       "4       110.166  0.578746           0.886              NaN  \n",
       "5        232.74  0.691293           0.866              NaN  \n",
       "6       124.209  0.663465           0.897              NaN  \n",
       "7       254.591  0.755225           0.861              NaN  \n",
       "8       168.657   1.00984           0.871              NaN  \n",
       "9       108.085  0.678292             0.9              NaN  "
      ]
     },
     "execution_count": 44,
     "metadata": {},
     "output_type": "execute_result"
    }
   ],
   "source": [
    "df = get_data(\"/Users/mac/Documents/HiWi-Payen/New_Data/multiplevairbales_data.xlsx\", 0)  #provide the address for your data location\n",
    "df.head(10)"
   ]
  },
  {
   "cell_type": "code",
   "execution_count": 45,
   "id": "648ce3aa",
   "metadata": {},
   "outputs": [
    {
     "name": "stdout",
     "output_type": "stream",
     "text": [
      "<class 'pandas.core.frame.DataFrame'>\n",
      "RangeIndex: 45 entries, 0 to 44\n",
      "Data columns (total 11 columns):\n",
      " #   Column            Non-Null Count  Dtype \n",
      "---  ------            --------------  ----- \n",
      " 0   Nozzle pos.       45 non-null     object\n",
      " 1   Inlet duct        45 non-null     object\n",
      " 2   Air flow          45 non-null     object\n",
      " 3   Air temp.         45 non-null     object\n",
      " 4   Feed flow         45 non-null     object\n",
      " 5   GLR               45 non-null     object\n",
      " 6   Avg. TKE          45 non-null     object\n",
      " 7   Mean diameter     45 non-null     object\n",
      " 8   Variance          45 non-null     object\n",
      " 9   Mean Sphericity   45 non-null     object\n",
      " 10  Moisture content  17 non-null     object\n",
      "dtypes: object(11)\n",
      "memory usage: 4.0+ KB\n"
     ]
    }
   ],
   "source": [
    "df.info()"
   ]
  },
  {
   "cell_type": "markdown",
   "id": "4c6a6479",
   "metadata": {},
   "source": [
    "### Datatype Conversion:"
   ]
  },
  {
   "cell_type": "code",
   "execution_count": 140,
   "id": "cbd91800",
   "metadata": {},
   "outputs": [
    {
     "data": {
      "text/plain": [
       "Nozzle pos.           int64\n",
       "Inlet duct            int64\n",
       "Air flow            float64\n",
       "Air temp.             int64\n",
       "Feed flow           float64\n",
       "GLR                 float64\n",
       "Avg. TKE            float64\n",
       "Mean diameter       float64\n",
       "Variance            float64\n",
       "Mean Sphericity     float64\n",
       "Moisture content    float64\n",
       "dtype: object"
      ]
     },
     "execution_count": 140,
     "metadata": {},
     "output_type": "execute_result"
    }
   ],
   "source": [
    "#Change of datatypes of the variable\n",
    "\n",
    "# Independent variables(INPUT)\n",
    "df['Nozzle pos.']    = df['Nozzle pos.'].astype('int')         # It's a discrete level variable can be nominal\n",
    "df['GLR']            = df['GLR'].astype('float')               # It's a float value coz it's a ratio\n",
    "df['Avg. TKE']       = df['Avg. TKE'].astype('float')          # It's a float variable    \n",
    "df['Inlet duct']     = df['Inlet duct'].astype('int')          # It's an integer\n",
    "df['Air flow']       = df['Air flow'].astype('float')          # It's a float variable\n",
    "df['Air temp.']      = df['Air temp.'].astype('int')           # It's integer         \n",
    "df['Feed flow']      = df['Feed flow'].astype('float')         # It's always a float\n",
    "\n",
    "# Dependent variables (OUTPUT)\n",
    "df['Mean diameter']     = df['Mean diameter'].astype('float')\n",
    "df['Mean Sphericity']   = df['Mean Sphericity'].astype('float')\n",
    "df['Variance']          = df['Variance'].astype('float')\n",
    "df['Moisture content']  = df['Moisture content'].astype('float')\n",
    "\n",
    "df.dtypes"
   ]
  },
  {
   "cell_type": "markdown",
   "id": "714eeb0e",
   "metadata": {},
   "source": [
    "### Data-Split:"
   ]
  },
  {
   "cell_type": "code",
   "execution_count": 664,
   "id": "ffb43924",
   "metadata": {},
   "outputs": [],
   "source": [
    "# Datasplit into x(independent) y(dependent) variable\n",
    "#X:\n",
    "x = df.drop(['Mean diameter','Variance','Mean Sphericity','Moisture content'], axis=1)\n",
    "\n",
    "#Y:\n",
    "multiplier = 1000\n",
    "y1 = np.round(df['Mean diameter'],2)\n",
    "y2 = np.round(multiplier* df['Mean Sphericity'],2)\n",
    "y3 = np.round(multiplier* df['Variance'], 2)\n",
    "y4 = np.round(df['Moisture content'], 2)"
   ]
  },
  {
   "cell_type": "code",
   "execution_count": 665,
   "id": "00f11f2a",
   "metadata": {},
   "outputs": [],
   "source": [
    "# for individual y values (y1,y2,y3):\n",
    "x_train, x_test, y_train1, y_test1 = train_test_split  (x,y1,test_size=0.25, random_state=125)\n",
    "x_train, x_test, y_train2, y_test2 = train_test_split  (x,y2,test_size=0.25, random_state=125)\n",
    "x_train, x_test, y_train3, y_test3 = train_test_split  (x,y3,test_size=0.25, random_state=125)"
   ]
  },
  {
   "cell_type": "markdown",
   "id": "50f2ce08",
   "metadata": {},
   "source": [
    "### Features Transformation:"
   ]
  },
  {
   "cell_type": "code",
   "execution_count": 666,
   "id": "5f39168f",
   "metadata": {},
   "outputs": [],
   "source": [
    "# Input variable transformation based on datatype using mapper:\n",
    "\n",
    "catagorical_features = [c for c in x_train.columns if x_train.dtypes[c] == 'int64']\n",
    "numerical_features = [n for n in x_train.columns if x_train.dtypes[n] == 'float64' ]\n",
    "cat = [([c], [OrdinalEncoder()]) for c in catagorical_features]\n",
    "num = [([n], [ MinMaxScaler()]) for n in numerical_features]\n",
    "mapper = DataFrameMapper(num + cat, df_out=True)\n",
    "\n",
    "#fit the transformation to training data\n",
    "m = mapper.fit(x_train)\n",
    "\n",
    "#transform the train and test data on the basis of mapper \n",
    "x_train = m.transform(x_train)\n",
    "x_test = m.transform(x_test)"
   ]
  },
  {
   "cell_type": "markdown",
   "id": "7fff9fcb",
   "metadata": {},
   "source": [
    "## Predict the Sphericity of the particle sizes distribution: y2"
   ]
  },
  {
   "cell_type": "code",
   "execution_count": 667,
   "id": "7daafe29",
   "metadata": {},
   "outputs": [],
   "source": [
    "xgb_y2  =  xgb.XGBRegressor(objective ='reg:squarederror',\n",
    "                          booster = \"gbtree\",\n",
    "                          max_depth = 2,\n",
    "                          colsample_bylevel = 0.8, \n",
    "                          subsample = 1,\n",
    "                          n_estimators = 900,\n",
    "                          learning_rate = 0.11,\n",
    "                          min_child_weight = 3,\n",
    "                          gamma = 2,\n",
    "                          reg_alpha = 1,\n",
    "                          reg_lambda = 1,\n",
    "                          sampling_method = \"uniform\",\n",
    "                          importance_type = 'gain',\n",
    "                          random_state = 3)"
   ]
  },
  {
   "cell_type": "code",
   "execution_count": 668,
   "id": "c9926d8b",
   "metadata": {},
   "outputs": [
    {
     "data": {
      "text/plain": [
       "73.53"
      ]
     },
     "execution_count": 668,
     "metadata": {},
     "output_type": "execute_result"
    }
   ],
   "source": [
    "xgb_y2.fit(x_train, y_train2)\n",
    "round(xgb_y2.score(x_test, y_test2)* 100, 2)"
   ]
  },
  {
   "cell_type": "code",
   "execution_count": 669,
   "id": "cca2ae45",
   "metadata": {},
   "outputs": [],
   "source": [
    "                                \"\"\"Regression chart function:\"\"\"\n",
    "\n",
    "def chart_regression2(pred, y, sort=True):\n",
    "    t = pd.DataFrame({'pred': pred, 'y': y})\n",
    "    if sort:\n",
    "        t.sort_values(by=['y'], inplace=True)\n",
    "    plt.plot(t['y'].tolist(),'bo', label='expected', )\n",
    "    plt.plot(t['pred'].tolist(),'go', label='prediction')\n",
    "    # add legend and set position to lower right\n",
    "    \n",
    "    plt.plot([], [], ' ', label=' rmse  = {}'.format(round( np.sqrt(metrics.mean_squared_error(pred,y)),5)))\n",
    "    plt.ylim(0.8,1.0)\n",
    "    plt.ylabel('output')\n",
    "    plt.title('RMSE: {}'.format(np.sqrt(metrics.mean_squared_error(pred,y))))\n",
    "    plt.legend(loc = 'upper left')\n",
    "    plt.grid(False)\n",
    "    plt.show()"
   ]
  },
  {
   "cell_type": "code",
   "execution_count": 670,
   "id": "42612b32",
   "metadata": {},
   "outputs": [
    {
     "data": {
      "image/png": "[encoded data removed]",
      "text/plain": [
       "<Figure size 576x396 with 1 Axes>"
      ]
     },
     "metadata": {},
     "output_type": "display_data"
    },
    {
     "data": {
      "image/png": "[encoded data removed]",
      "text/plain": [
       "<Figure size 576x396 with 1 Axes>"
      ]
     },
     "metadata": {},
     "output_type": "display_data"
    }
   ],
   "source": [
    "chart_regression2(pred = np.true_divide(xgb_y2.predict(x_test),multiplier) , y= np.true_divide(y_test2, multiplier), sort=False)\n",
    "chart_regression2(pred = np.true_divide(xgb_y2.predict(x_train), multiplier), y= np.true_divide(y_train2, multiplier), sort=False)"
   ]
  },
  {
   "cell_type": "code",
   "execution_count": null,
   "id": "3ebb520b",
   "metadata": {},
   "outputs": [],
   "source": []
  },
  {
   "cell_type": "markdown",
   "id": "877f8d1f",
   "metadata": {},
   "source": [
    "## Predict the Variance of the particle sizes distribution: y3"
   ]
  },
  {
   "cell_type": "code",
   "execution_count": 671,
   "id": "ede745e2",
   "metadata": {},
   "outputs": [],
   "source": [
    "xgb_y3  =  xgb.XGBRegressor(objective ='reg:squarederror',\n",
    "                          booster = \"gbtree\",\n",
    "                          max_depth = 2,\n",
    "                          colsample_bylevel = 0.6, \n",
    "                          subsample = 1,\n",
    "                          n_estimators = 600,\n",
    "                          learning_rate = 0.22,\n",
    "                          min_child_weight = 5,\n",
    "                          gamma = 2,\n",
    "                          reg_alpha = 3,\n",
    "                          reg_lambda = 3,\n",
    "                          sampling_method = \"uniform\",\n",
    "                          importance_type = 'gain',\n",
    "                          random_state = 3)"
   ]
  },
  {
   "cell_type": "code",
   "execution_count": 672,
   "id": "c938a9d4",
   "metadata": {},
   "outputs": [
    {
     "data": {
      "text/plain": [
       "40.18"
      ]
     },
     "execution_count": 672,
     "metadata": {},
     "output_type": "execute_result"
    }
   ],
   "source": [
    "xgb_y3.fit(x_train, y_train3)\n",
    "round(xgb_y3.score(x_test, y_test3)* 100, 2)"
   ]
  },
  {
   "cell_type": "code",
   "execution_count": 673,
   "id": "fd8c4d6b",
   "metadata": {},
   "outputs": [
    {
     "data": {
      "image/png": "[encoded data removed]",
      "text/plain": [
       "<Figure size 576x396 with 1 Axes>"
      ]
     },
     "metadata": {},
     "output_type": "display_data"
    },
    {
     "data": {
      "image/png": "[encoded data removed]",
      "text/plain": [
       "<Figure size 576x396 with 1 Axes>"
      ]
     },
     "metadata": {},
     "output_type": "display_data"
    }
   ],
   "source": [
    "                                \"\"\"Regression chart function:\"\"\"\n",
    "\n",
    "def chart_regression3(pred, y, sort=True):\n",
    "    t = pd.DataFrame({'pred': pred, 'y': y})\n",
    "    if sort:\n",
    "        t.sort_values(by=['y'], inplace=True)\n",
    "    plt.plot(t['y'].tolist(),'bo', label='expected', )\n",
    "    plt.plot(t['pred'].tolist(),'go', label='prediction')\n",
    "    # add legend and set position to lower right\n",
    "    \n",
    "    plt.plot([], [], ' ', label=' rmse  = {}'.format(round( np.sqrt(metrics.mean_squared_error(pred,y)),3)))\n",
    "    plt.ylim(0.4,1.0)\n",
    "    plt.ylabel('output')\n",
    "    plt.title('RMSE: {}'.format(round(np.sqrt(metrics.mean_squared_error(pred,y)),3)))\n",
    "    plt.legend(loc = 'upper left')\n",
    "    plt.grid(False)\n",
    "    plt.show()\n",
    "\n",
    "\n",
    "chart_regression3(pred = np.true_divide(xgb_y3.predict(x_test),multiplier) , y= np.true_divide(y_test3, multiplier), sort=False)\n",
    "chart_regression3(pred = np.true_divide(xgb_y3.predict(x_train), multiplier), y= np.true_divide(y_train3, multiplier), sort=False)"
   ]
  },
  {
   "cell_type": "code",
   "execution_count": null,
   "id": "27816fb9",
   "metadata": {},
   "outputs": [],
   "source": []
  },
  {
   "cell_type": "markdown",
   "id": "2ab841d0",
   "metadata": {},
   "source": [
    "## Predict the Variance of the particle sizes distribution: y1"
   ]
  },
  {
   "cell_type": "code",
   "execution_count": 674,
   "id": "0a1a52c7",
   "metadata": {},
   "outputs": [],
   "source": [
    "xgb_y1  =  xgb.XGBRegressor(objective ='reg:squarederror',\n",
    "                          booster = \"gbtree\",\n",
    "                          max_depth = 2,\n",
    "                          colsample_bylevel = 0.7, \n",
    "                          subsample = 1,\n",
    "                          n_estimators = 900,\n",
    "                          learning_rate = 0.15,\n",
    "                          min_child_weight = 3,\n",
    "                          gamma = 2,\n",
    "                          reg_alpha = 5,\n",
    "                          reg_lambda = 5,\n",
    "                          sampling_method = \"uniform\",\n",
    "                          importance_type = 'gain',\n",
    "                          random_state = 3)"
   ]
  },
  {
   "cell_type": "code",
   "execution_count": 675,
   "id": "9ca2e442",
   "metadata": {},
   "outputs": [
    {
     "data": {
      "text/plain": [
       "91.21"
      ]
     },
     "execution_count": 675,
     "metadata": {},
     "output_type": "execute_result"
    }
   ],
   "source": [
    "xgb_y1.fit(x_train, y_train1)\n",
    "round(xgb_y1.score(x_test, y_test1)* 100, 2)"
   ]
  },
  {
   "cell_type": "code",
   "execution_count": 680,
   "id": "106d9d39",
   "metadata": {},
   "outputs": [
    {
     "data": {
      "image/png": "[encoded data removed]",
      "text/plain": [
       "<Figure size 576x396 with 1 Axes>"
      ]
     },
     "metadata": {},
     "output_type": "display_data"
    },
    {
     "data": {
      "image/png": "[encoded data removed]",
      "text/plain": [
       "<Figure size 576x396 with 1 Axes>"
      ]
     },
     "metadata": {},
     "output_type": "display_data"
    }
   ],
   "source": [
    "                                \"\"\"Regression chart function:\"\"\"\n",
    "\n",
    "def chart_regression1(pred, y, sort=True):\n",
    "    t = pd.DataFrame({'pred': pred, 'y': y})\n",
    "    if sort:\n",
    "        t.sort_values(by=['y'], inplace=True)\n",
    "    plt.plot(t['y'].tolist(),'bo', label='expected', )\n",
    "    plt.plot(t['pred'].tolist(),'go', label='prediction')\n",
    "    # add legend and set position to lower right\n",
    "    \n",
    "    plt.plot([], [], ' ', label=' rmse  = {}'.format(round( np.sqrt(metrics.mean_squared_error(pred,y)),3)))\n",
    "    plt.ylim(50,400)\n",
    "    plt.ylabel('output')\n",
    "    plt.title('RMSE: {}'.format(round(np.sqrt(metrics.mean_squared_error(pred,y)),3)))\n",
    "    plt.legend(loc = 'upper left')\n",
    "    plt.grid(False)\n",
    "    plt.show()\n",
    "\n",
    "\n",
    "chart_regression1(pred = np.true_divide(xgb_y1.predict(x_test),1) , y= np.true_divide(y_test1, 1), sort=False)\n",
    "chart_regression1(pred = np.true_divide(xgb_y1.predict(x_train), 1), y= np.true_divide(y_train1, 1), sort=False)\n",
    "\n"
   ]
  },
  {
   "cell_type": "code",
   "execution_count": null,
   "id": "7f97081c",
   "metadata": {},
   "outputs": [],
   "source": []
  },
  {
   "cell_type": "code",
   "execution_count": null,
   "id": "030ae958",
   "metadata": {},
   "outputs": [],
   "source": []
  }
 ],
 "metadata": {
  "kernelspec": {
   "display_name": "Python 3",
   "language": "python",
   "name": "python3"
  },
  "language_info": {
   "codemirror_mode": {
    "name": "ipython",
    "version": 3
   },
   "file_extension": ".py",
   "mimetype": "text/x-python",
   "name": "python",
   "nbconvert_exporter": "python",
   "pygments_lexer": "ipython3",
   "version": "3.6.13"
  }
 },
 "nbformat": 4,
 "nbformat_minor": 5
}
